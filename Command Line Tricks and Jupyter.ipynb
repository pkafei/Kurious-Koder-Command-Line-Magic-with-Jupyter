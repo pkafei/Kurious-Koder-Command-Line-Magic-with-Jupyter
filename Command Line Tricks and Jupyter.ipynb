{
 "cells": [
  {
   "cell_type": "markdown",
   "metadata": {},
   "source": [
    "# Command Line and Bash in Jupyter"
   ]
  },
  {
   "cell_type": "markdown",
   "metadata": {},
   "source": [
    "### Basic Bash Commands"
   ]
  },
  {
   "cell_type": "code",
   "execution_count": 13,
   "metadata": {
    "collapsed": false
   },
   "outputs": [
    {
     "name": "stdout",
     "output_type": "stream",
     "text": [
      "Baltimore_City_Employee_Salaries_FY2015.csv\n",
      "Civil Servant Salaries in Baltimore.ipynb\n",
      "Command Line Tricks and Jupyter.ipynb\n",
      "Sorted_Employee_Salaries.csv\n",
      "my_file.txt\n",
      "no_duplicates.csv\n"
     ]
    }
   ],
   "source": [
    "%%bash\n",
    "ls"
   ]
  },
  {
   "cell_type": "code",
   "execution_count": 16,
   "metadata": {
    "collapsed": false
   },
   "outputs": [],
   "source": [
    "%%bash\n",
    "touch my_second_file.txt"
   ]
  },
  {
   "cell_type": "code",
   "execution_count": 17,
   "metadata": {
    "collapsed": false
   },
   "outputs": [
    {
     "name": "stdout",
     "output_type": "stream",
     "text": [
      "my_file.txt\n",
      "my_second_file.txt\n"
     ]
    }
   ],
   "source": [
    "%%bash\n",
    "ls *.txt"
   ]
  },
  {
   "cell_type": "code",
   "execution_count": 18,
   "metadata": {
    "collapsed": true
   },
   "outputs": [],
   "source": [
    "%%bash\n",
    "\n",
    "echo \"This is the beginning of something cool\" >> my_second_file.txt"
   ]
  },
  {
   "cell_type": "code",
   "execution_count": 19,
   "metadata": {
    "collapsed": false
   },
   "outputs": [
    {
     "name": "stdout",
     "output_type": "stream",
     "text": [
      "This is the beginning of something cool\n"
     ]
    }
   ],
   "source": [
    "%%bash \n",
    "cat my_second_file.txt"
   ]
  },
  {
   "cell_type": "code",
   "execution_count": 20,
   "metadata": {
    "collapsed": false
   },
   "outputs": [
    {
     "name": "stdout",
     "output_type": "stream",
     "text": [
      "   14018 Baltimore_City_Employee_Salaries_FY2015.csv\n"
     ]
    }
   ],
   "source": [
    "%%bash\n",
    "wc -l Baltimore_City_Employee_Salaries_FY2015.csv"
   ]
  },
  {
   "cell_type": "markdown",
   "metadata": {},
   "source": [
    "## String and File Manipulation"
   ]
  },
  {
   "cell_type": "code",
   "execution_count": 21,
   "metadata": {
    "collapsed": false
   },
   "outputs": [
    {
     "name": "stdout",
     "output_type": "stream",
     "text": [
      "this is my name\n"
     ]
    }
   ],
   "source": [
    "%%bash\n",
    "echo 'htis is my name' | tr 'htis' 'this'"
   ]
  },
  {
   "cell_type": "code",
   "execution_count": null,
   "metadata": {
    "collapsed": true
   },
   "outputs": [],
   "source": [
    "%%bash\n",
    "echo \"Thsi is the beginning of something cool\" >> my_file.txt"
   ]
  },
  {
   "cell_type": "code",
   "execution_count": null,
   "metadata": {
    "collapsed": false
   },
   "outputs": [],
   "source": [
    "%%bash\n",
    "sort Baltimore_City_Employee_Salaries_FY2015.csv >> Sorted_Employee_Salaries.csv"
   ]
  },
  {
   "cell_type": "code",
   "execution_count": 22,
   "metadata": {
    "collapsed": false
   },
   "outputs": [
    {
     "name": "stdout",
     "output_type": "stream",
     "text": [
      "\"Aaron,Patricia G\",Facilities/Office Services II,A03031,OED-Employment Dev (031),10/24/1979,$55314.00,$53626.04\n",
      "\"Aaron,Petra L\",ASSISTANT STATE'S ATTORNEY,A29045,States Attorneys Office (045),09/25/2006,$74000.00,$73000.08\n",
      "\"Abaineh,Yohannes T\",EPIDEMIOLOGIST,A65026,HLTH-Health Department (026),07/23/2009,$64500.00,$64403.84\n",
      "\"Abbene,Anthony M\",POLICE OFFICER,A99005,Police Department (005),07/24/2013,$46309.00,$59620.16\n",
      "\"Abbey,Emmanuel\",CONTRACT SERV SPEC II,A40001,M-R Info Technology (001),05/01/2013,$60060.00,$54059.60\n",
      "\"Abbott-Cole,Michelle\",CONTRACT SERV SPEC II,A90005,TRANS-Traffic (005),11/28/2014,$42702.00,$20250.80\n",
      "\"Abdal-Rahim,Naim A\",EMT Firefighter Suppression,A64120,Fire Department (120),03/30/2011,$62175.00,$83757.48\n",
      "\"Abdi,Ezekiel W\",POLICE SERGEANT,A99127,Police Department (127),06/14/2007,$77343.00,$92574.91\n",
      "\"Abdul Adl,Attrice A\",RADIO DISPATCHER SHERIFF,A38410,Sheriff's Office (410),09/02/1999,$44548.00,$55943.29\n",
      "\"Abdul Aziz,Hajr E\",LIFEGUARD I,P04002,R&P-Recreation (part-time) (,06/18/2014,$18408.00,$1051.25\n"
     ]
    }
   ],
   "source": [
    "%%bash\n",
    "head Sorted_Employee_Salaries.csv"
   ]
  },
  {
   "cell_type": "code",
   "execution_count": null,
   "metadata": {
    "collapsed": false
   },
   "outputs": [],
   "source": [
    "%%bash\n",
    "sort -u Baltimore_City_Employee_Salaries_FY2015.csv >> no_duplicates.csv"
   ]
  },
  {
   "cell_type": "markdown",
   "metadata": {},
   "source": [
    "## Various Git Commands"
   ]
  },
  {
   "cell_type": "code",
   "execution_count": 23,
   "metadata": {
    "collapsed": false
   },
   "outputs": [
    {
     "name": "stdout",
     "output_type": "stream",
     "text": [
      "On branch master\n",
      "\n",
      "Initial commit\n",
      "\n",
      "Untracked files:\n",
      "  (use \"git add <file>...\" to include in what will be committed)\n",
      "\n",
      "\t.ipynb_checkpoints/\n",
      "\tBaltimore_City_Employee_Salaries_FY2015.csv\n",
      "\tCivil Servant Salaries in Baltimore.ipynb\n",
      "\tCommand Line Tricks and Jupyter.ipynb\n",
      "\tSorted_Employee_Salaries.csv\n",
      "\tmy_file.txt\n",
      "\tmy_second_file.txt\n",
      "\tno_duplicates.csv\n",
      "\n",
      "nothing added to commit but untracked files present (use \"git add\" to track)\n"
     ]
    }
   ],
   "source": [
    "%%bash\n",
    "git status"
   ]
  },
  {
   "cell_type": "code",
   "execution_count": null,
   "metadata": {
    "collapsed": false
   },
   "outputs": [],
   "source": [
    "%%bash\n",
    "git diff"
   ]
  },
  {
   "cell_type": "code",
   "execution_count": null,
   "metadata": {
    "collapsed": false
   },
   "outputs": [],
   "source": [
    "%%bash\n",
    "git add"
   ]
  },
  {
   "cell_type": "code",
   "execution_count": null,
   "metadata": {
    "collapsed": true
   },
   "outputs": [],
   "source": [
    "%%bash\n",
    "git commit"
   ]
  },
  {
   "cell_type": "markdown",
   "metadata": {},
   "source": [
    "## Other Commands to Explore\n",
    "\n",
    "* mkdir\n",
    "* cp\n",
    "* mv\n",
    "* stash\n",
    "\n",
    "http://cli.learncodethehardway.org/book/"
   ]
  },
  {
   "cell_type": "code",
   "execution_count": 24,
   "metadata": {
    "collapsed": false
   },
   "outputs": [
    {
     "data": {
      "text/html": [
       "<iframe src=\"//giphy.com/embed/DAtJCG1t3im1G?html5=true\" width=\"480\" height=\"345\" frameBorder=\"0\" class=\"giphy-embed\" allowFullScreen></iframe><p><a href=\"https://giphy.com/gifs/maudit-buster-keaton-the-end-blacksmith-DAtJCG1t3im1G\">via GIPHY</a></p>"
      ],
      "text/plain": [
       "<IPython.core.display.HTML object>"
      ]
     },
     "metadata": {},
     "output_type": "display_data"
    }
   ],
   "source": [
    "%%html\n",
    "<iframe src=\"//giphy.com/embed/DAtJCG1t3im1G?html5=true\" width=\"480\" height=\"345\" frameBorder=\"0\" class=\"giphy-embed\" allowFullScreen></iframe><p><a href=\"https://giphy.com/gifs/maudit-buster-keaton-the-end-blacksmith-DAtJCG1t3im1G\">via GIPHY</a></p>"
   ]
  },
  {
   "cell_type": "code",
   "execution_count": null,
   "metadata": {
    "collapsed": true
   },
   "outputs": [],
   "source": []
  }
 ],
 "metadata": {
  "kernelspec": {
   "display_name": "Python 3",
   "language": "python",
   "name": "python3"
  },
  "language_info": {
   "codemirror_mode": {
    "name": "ipython",
    "version": 3
   },
   "file_extension": ".py",
   "mimetype": "text/x-python",
   "name": "python",
   "nbconvert_exporter": "python",
   "pygments_lexer": "ipython3",
   "version": "3.5.0"
  }
 },
 "nbformat": 4,
 "nbformat_minor": 0
}
